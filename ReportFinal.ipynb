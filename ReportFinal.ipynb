{
 "cells": [
  {
   "cell_type": "markdown",
   "id": "b5de0237",
   "metadata": {},
   "source": [
    "# 2021 Report for SussexBudgetProdctions \n",
   ]
  },
  {
   "cell_type": "markdown",
   "id": "7155bff7",
   "metadata": {},
   "source": [
    "---\n",
    "## 1. Introduction\n",
    "This report will look at the data supplied in movie_metadata.csv. I will use this data to analyse what actions SussexBudgetProductions should take in order to make movies with a large return. My analysis will focus on genre, content rating and budget since these are things that are within the control of the company.\n",
    "\n",
    "With a preliminary budget of £1.5 million, we need to decide how many movies to make and what kind of movies."
   ]
  },
  {
   "cell_type": "markdown",
   "id": "31459cdd",
   "metadata": {},
   "source": [
    "---\n",
    "## 2. Initialisation\n",
    "\n",
    "Setting up a data-frame so that we can easily access the file.\n",
    "\n"
   ]
  },
  {
   "cell_type": "code",
   "execution_count": 1,
   "id": "b0e28195",
   "metadata": {},
   "outputs": [],
   "source": [
    "# importing necessary packagages\n",
    "import numpy as np\n",
    "from matplotlib import pyplot as plt\n",
    "import pandas as pd\n",
    "from pandas import Series, DataFrame\n",
    "from scipy import stats\n",
    "\n",
    "#all figures set to 1 decimal place for easier viewing of data\n",
    "pd.set_option('display.float_format', lambda x: '%.0f' % x)\n",
    "\n",
    "file = 'movie_metadata.csv'\n",
    "\n",
    "#taken away the budget column values from the gross values to create a profit column as this will be our most useful variable.\n",
    "df = (pd.read_csv(file,index_col=None))\n",
    "df = df.assign(profit = df['gross']-df['budget'])"
   ]
  },
  {
   "cell_type": "markdown",
   "id": "ba027d7c",
   "metadata": {},
   "source": [
    "---\n",
    "## 3. Data Cleaning and Filtering\n",
    "Before analysing our data we need to clean it. However, I first want to rearrange the columns to organise the data."
   ]
  },
  {
   "cell_type": "code",
   "execution_count": 2,
   "id": "c4f13de7",
   "metadata": {
    "scrolled": true
   },
   "outputs": [
    {
     "data": {
      "text/html": [
       "<div>\n",
       "<style scoped>\n",
       "    .dataframe tbody tr th:only-of-type {\n",
       "        vertical-align: middle;\n",
       "    }\n",
       "\n",
       "    .dataframe tbody tr th {\n",
       "        vertical-align: top;\n",
       "    }\n",
       "\n",
       "    .dataframe thead th {\n",
       "        text-align: right;\n",
       "    }\n",
       "</style>\n",
       "<table border=\"1\" class=\"dataframe\">\n",
       "  <thead>\n",
       "    <tr style=\"text-align: right;\">\n",
       "      <th></th>\n",
       "      <th>movie_title</th>\n",
       "      <th>title_year</th>\n",
       "      <th>gross</th>\n",
       "      <th>budget</th>\n",
       "      <th>profit</th>\n",
       "      <th>genres</th>\n",
       "      <th>plot_keywords</th>\n",
       "      <th>content_rating</th>\n",
       "      <th>duration</th>\n",
       "      <th>color</th>\n",
       "      <th>...</th>\n",
       "      <th>actor_1_facebook_likes</th>\n",
       "      <th>actor_2_name</th>\n",
       "      <th>actor_2_facebook_likes</th>\n",
       "      <th>actor_3_name</th>\n",
       "      <th>actor_3_facebook_likes</th>\n",
       "      <th>cast_total_facebook_likes</th>\n",
       "      <th>movie_facebook_likes</th>\n",
       "      <th>facenumber_in_poster</th>\n",
       "      <th>aspect_ratio</th>\n",
       "      <th>movie_imdb_link</th>\n",
       "    </tr>\n",
       "  </thead>\n",
       "  <tbody>\n",
       "    <tr>\n",
       "      <th>0</th>\n",
       "      <td>Avatar</td>\n",
       "      <td>2009</td>\n",
       "      <td>760505847</td>\n",
       "      <td>237000000</td>\n",
       "      <td>523505847</td>\n",
       "      <td>Action|Adventure|Fantasy|Sci-Fi</td>\n",
       "      <td>avatar|future|marine|native|paraplegic</td>\n",
       "      <td>PG-13</td>\n",
       "      <td>178</td>\n",
       "      <td>Color</td>\n",
       "      <td>...</td>\n",
       "      <td>1000</td>\n",
       "      <td>Joel David Moore</td>\n",
       "      <td>936</td>\n",
       "      <td>Wes Studi</td>\n",
       "      <td>855</td>\n",
       "      <td>4834</td>\n",
       "      <td>33000</td>\n",
       "      <td>0</td>\n",
       "      <td>2</td>\n",
       "      <td>http://www.imdb.com/title/tt0499549/?ref_=fn_t...</td>\n",
       "    </tr>\n",
       "    <tr>\n",
       "      <th>1</th>\n",
       "      <td>Pirates of the Caribbean: At World's End</td>\n",
       "      <td>2007</td>\n",
       "      <td>309404152</td>\n",
       "      <td>300000000</td>\n",
       "      <td>9404152</td>\n",
       "      <td>Action|Adventure|Fantasy</td>\n",
       "      <td>goddess|marriage ceremony|marriage proposal|pi...</td>\n",
       "      <td>PG-13</td>\n",
       "      <td>169</td>\n",
       "      <td>Color</td>\n",
       "      <td>...</td>\n",
       "      <td>40000</td>\n",
       "      <td>Orlando Bloom</td>\n",
       "      <td>5000</td>\n",
       "      <td>Jack Davenport</td>\n",
       "      <td>1000</td>\n",
       "      <td>48350</td>\n",
       "      <td>0</td>\n",
       "      <td>0</td>\n",
       "      <td>2</td>\n",
       "      <td>http://www.imdb.com/title/tt0449088/?ref_=fn_t...</td>\n",
       "    </tr>\n",
       "    <tr>\n",
       "      <th>2</th>\n",
       "      <td>Spectre</td>\n",
       "      <td>2015</td>\n",
       "      <td>200074175</td>\n",
       "      <td>245000000</td>\n",
       "      <td>-44925825</td>\n",
       "      <td>Action|Adventure|Thriller</td>\n",
       "      <td>bomb|espionage|sequel|spy|terrorist</td>\n",
       "      <td>PG-13</td>\n",
       "      <td>148</td>\n",
       "      <td>Color</td>\n",
       "      <td>...</td>\n",
       "      <td>11000</td>\n",
       "      <td>Rory Kinnear</td>\n",
       "      <td>393</td>\n",
       "      <td>Stephanie Sigman</td>\n",
       "      <td>161</td>\n",
       "      <td>11700</td>\n",
       "      <td>85000</td>\n",
       "      <td>1</td>\n",
       "      <td>2</td>\n",
       "      <td>http://www.imdb.com/title/tt2379713/?ref_=fn_t...</td>\n",
       "    </tr>\n",
       "    <tr>\n",
       "      <th>3</th>\n",
       "      <td>The Dark Knight Rises</td>\n",
       "      <td>2012</td>\n",
       "      <td>448130642</td>\n",
       "      <td>250000000</td>\n",
       "      <td>198130642</td>\n",
       "      <td>Action|Thriller</td>\n",
       "      <td>deception|imprisonment|lawlessness|police offi...</td>\n",
       "      <td>PG-13</td>\n",
       "      <td>164</td>\n",
       "      <td>Color</td>\n",
       "      <td>...</td>\n",
       "      <td>27000</td>\n",
       "      <td>Christian Bale</td>\n",
       "      <td>23000</td>\n",
       "      <td>Joseph Gordon-Levitt</td>\n",
       "      <td>23000</td>\n",
       "      <td>106759</td>\n",
       "      <td>164000</td>\n",
       "      <td>0</td>\n",
       "      <td>2</td>\n",
       "      <td>http://www.imdb.com/title/tt1345836/?ref_=fn_t...</td>\n",
       "    </tr>\n",
       "    <tr>\n",
       "      <th>4</th>\n",
       "      <td>Star Wars: Episode VII - The Force Awakens    ...</td>\n",
       "      <td>nan</td>\n",
       "      <td>nan</td>\n",
       "      <td>nan</td>\n",
       "      <td>nan</td>\n",
       "      <td>Documentary</td>\n",
       "      <td>NaN</td>\n",
       "      <td>NaN</td>\n",
       "      <td>nan</td>\n",
       "      <td>NaN</td>\n",
       "      <td>...</td>\n",
       "      <td>131</td>\n",
       "      <td>Rob Walker</td>\n",
       "      <td>12</td>\n",
       "      <td>NaN</td>\n",
       "      <td>nan</td>\n",
       "      <td>143</td>\n",
       "      <td>0</td>\n",
       "      <td>0</td>\n",
       "      <td>nan</td>\n",
       "      <td>http://www.imdb.com/title/tt5289954/?ref_=fn_t...</td>\n",
       "    </tr>\n",
       "  </tbody>\n",
       "</table>\n",
       "<p>5 rows × 29 columns</p>\n",
       "</div>"
      ],
      "text/plain": [
       "                                         movie_title  title_year     gross  \\\n",
       "0                                            Avatar         2009 760505847   \n",
       "1          Pirates of the Caribbean: At World's End         2007 309404152   \n",
       "2                                           Spectre         2015 200074175   \n",
       "3                             The Dark Knight Rises         2012 448130642   \n",
       "4  Star Wars: Episode VII - The Force Awakens    ...         nan       nan   \n",
       "\n",
       "     budget    profit                           genres  \\\n",
       "0 237000000 523505847  Action|Adventure|Fantasy|Sci-Fi   \n",
       "1 300000000   9404152         Action|Adventure|Fantasy   \n",
       "2 245000000 -44925825        Action|Adventure|Thriller   \n",
       "3 250000000 198130642                  Action|Thriller   \n",
       "4       nan       nan                      Documentary   \n",
       "\n",
       "                                       plot_keywords content_rating  duration  \\\n",
       "0             avatar|future|marine|native|paraplegic          PG-13       178   \n",
       "1  goddess|marriage ceremony|marriage proposal|pi...          PG-13       169   \n",
       "2                bomb|espionage|sequel|spy|terrorist          PG-13       148   \n",
       "3  deception|imprisonment|lawlessness|police offi...          PG-13       164   \n",
       "4                                                NaN            NaN       nan   \n",
       "\n",
       "   color                        ...                          \\\n",
       "0  Color                        ...                           \n",
       "1  Color                        ...                           \n",
       "2  Color                        ...                           \n",
       "3  Color                        ...                           \n",
       "4    NaN                        ...                           \n",
       "\n",
       "  actor_1_facebook_likes      actor_2_name  actor_2_facebook_likes  \\\n",
       "0                   1000  Joel David Moore                     936   \n",
       "1                  40000     Orlando Bloom                    5000   \n",
       "2                  11000      Rory Kinnear                     393   \n",
       "3                  27000    Christian Bale                   23000   \n",
       "4                    131        Rob Walker                      12   \n",
       "\n",
       "           actor_3_name  actor_3_facebook_likes  cast_total_facebook_likes  \\\n",
       "0             Wes Studi                     855                       4834   \n",
       "1        Jack Davenport                    1000                      48350   \n",
       "2      Stephanie Sigman                     161                      11700   \n",
       "3  Joseph Gordon-Levitt                   23000                     106759   \n",
       "4                   NaN                     nan                        143   \n",
       "\n",
       "  movie_facebook_likes  facenumber_in_poster aspect_ratio  \\\n",
       "0                33000                     0            2   \n",
       "1                    0                     0            2   \n",
       "2                85000                     1            2   \n",
       "3               164000                     0            2   \n",
       "4                    0                     0          nan   \n",
       "\n",
       "                                     movie_imdb_link  \n",
       "0  http://www.imdb.com/title/tt0499549/?ref_=fn_t...  \n",
       "1  http://www.imdb.com/title/tt0449088/?ref_=fn_t...  \n",
       "2  http://www.imdb.com/title/tt2379713/?ref_=fn_t...  \n",
       "3  http://www.imdb.com/title/tt1345836/?ref_=fn_t...  \n",
       "4  http://www.imdb.com/title/tt5289954/?ref_=fn_t...  \n",
       "\n",
       "[5 rows x 29 columns]"
      ]
     },
     "execution_count": 2,
     "metadata": {},
     "output_type": "execute_result"
    }
   ],
   "source": [
    "titles=['movie_title','title_year','gross','budget','profit','genres','plot_keywords','content_rating','duration','color',\n",
    "        'country','language','imdb_score','num_user_for_reviews','num_voted_users','num_critic_for_reviews',\n",
    "        'director_name','director_facebook_likes','actor_1_name','actor_1_facebook_likes','actor_2_name',\n",
    "        'actor_2_facebook_likes','actor_3_name','actor_3_facebook_likes','cast_total_facebook_likes',\n",
    "        'movie_facebook_likes','facenumber_in_poster','aspect_ratio','movie_imdb_link']\n",
    "df=df[titles]\n",
    "df.head()"
   ]
  },
  {
   "cell_type": "code",
   "execution_count": 3,
   "id": "28a2bfe3",
   "metadata": {},
   "outputs": [
    {
     "data": {
      "text/plain": [
       "(5043, 29)"
      ]
     },
     "execution_count": 3,
     "metadata": {},
     "output_type": "execute_result"
    }
   ],
   "source": [
    "df.shape#this shows the number of rows and columns in the data before cleaning"
   ]
  },
  {
   "cell_type": "markdown",
   "id": "f7fd0c5c",
   "metadata": {},
   "source": [
    "### 3.1 Duplicates\n",
    "I have removed the duplicates using the unique identifier of the movie IMDb link, instead of the title, as some movies may have the same name by coincidence."
   ]
  },
  {
   "cell_type": "code",
   "execution_count": 4,
   "id": "bc09e601",
   "metadata": {},
   "outputs": [],
   "source": [
    "df.drop_duplicates(subset='movie_imdb_link', inplace=True)"
   ]
  },
  {
   "cell_type": "markdown",
   "id": "e8884ea2",
   "metadata": {},
   "source": [
    "### 3.2 Missing Values\n",
    "\n",
    "We need to remove all the data points that do not contain a gross and budget as these values are extremely important for our analysis. I have also removed data that does not include content rating as I want to use this data to test a hypothesis."
   ]
  },
  {
   "cell_type": "code",
   "execution_count": 5,
   "id": "b3480579",
   "metadata": {},
   "outputs": [
    {
     "data": {
      "text/plain": [
       "movie_title                     0\n",
       "title_year                    106\n",
       "gross                         863\n",
       "budget                        485\n",
       "profit                       1129\n",
       "genres                          0\n",
       "plot_keywords                 152\n",
       "content_rating                301\n",
       "duration                       15\n",
       "color                          19\n",
       "country                         5\n",
       "language                       12\n",
       "imdb_score                      0\n",
       "num_user_for_reviews           21\n",
       "num_voted_users                 0\n",
       "num_critic_for_reviews         49\n",
       "director_name                 102\n",
       "director_facebook_likes       102\n",
       "actor_1_name                    7\n",
       "actor_1_facebook_likes          7\n",
       "actor_2_name                   13\n",
       "actor_2_facebook_likes         13\n",
       "actor_3_name                   23\n",
       "actor_3_facebook_likes         23\n",
       "cast_total_facebook_likes       0\n",
       "movie_facebook_likes            0\n",
       "facenumber_in_poster           13\n",
       "aspect_ratio                  326\n",
       "movie_imdb_link                 0\n",
       "dtype: int64"
      ]
     },
     "execution_count": 5,
     "metadata": {},
     "output_type": "execute_result"
    }
   ],
   "source": [
    "df.isnull().sum()#shows a list of all the columns and how many of their rows do not contatin any data"
   ]
  },
  {
   "cell_type": "code",
   "execution_count": 6,
   "id": "9ddec00f",
   "metadata": {},
   "outputs": [],
   "source": [
    "df.dropna(subset=['gross','budget','content_rating'], inplace=True) \n",
    "#removing the rows that do not include data for gross, budget or content_rating."
   ]
  },
  {
   "cell_type": "code",
   "execution_count": 7,
   "id": "d3696cf5",
   "metadata": {},
   "outputs": [
    {
     "data": {
      "text/plain": [
       "movie_title                   0\n",
       "title_year                    0\n",
       "gross                         0\n",
       "budget                        0\n",
       "profit                        0\n",
       "genres                        0\n",
       "plot_keywords                21\n",
       "content_rating                0\n",
       "duration                      0\n",
       "color                         2\n",
       "country                       0\n",
       "language                      2\n",
       "imdb_score                    0\n",
       "num_user_for_reviews          0\n",
       "num_voted_users               0\n",
       "num_critic_for_reviews        1\n",
       "director_name                 0\n",
       "director_facebook_likes       0\n",
       "actor_1_name                  1\n",
       "actor_1_facebook_likes        1\n",
       "actor_2_name                  2\n",
       "actor_2_facebook_likes        2\n",
       "actor_3_name                  6\n",
       "actor_3_facebook_likes        6\n",
       "cast_total_facebook_likes     0\n",
       "movie_facebook_likes          0\n",
       "facenumber_in_poster          6\n",
       "aspect_ratio                 55\n",
       "movie_imdb_link               0\n",
       "dtype: int64"
      ]
     },
     "execution_count": 7,
     "metadata": {},
     "output_type": "execute_result"
    }
   ],
   "source": [
    "df.isnull().sum()#checking that the data has been removed from our specified columns"
   ]
  },
  {
   "cell_type": "markdown",
   "id": "77fe3fd7",
   "metadata": {},
   "source": [
    "The content rating NC-17 means 'no child 17 or under' and the rating R means 'aged 18 or older'. We will combine these ratings as they technically mean the same thing just use different terminology."
   ]
  },
  {
   "cell_type": "code",
   "execution_count": 8,
   "id": "79aabff3",
   "metadata": {},
   "outputs": [],
   "source": [
    "df.replace('NC-17','R',inplace=True)"
   ]
  },
  {
   "cell_type": "markdown",
   "id": "4621d5c8",
   "metadata": {},
   "source": [
    "### 3.3 Filtering\n",
    "In order to remove outliers due to inflation and to keep our data relevant to making a movie in the present day, I have removed all movies made before 2000."
   ]
  },
  {
   "cell_type": "code",
   "execution_count": 9,
   "id": "95e1b9cc",
   "metadata": {},
   "outputs": [],
   "source": [
    "df=df[df.title_year>=2000]"
   ]
  },
  {
   "cell_type": "markdown",
   "id": "5b2c3e49",
   "metadata": {},
   "source": [
    "Below, we can see that movies made in South Korea, Hungary, Japan etc have an extremely negative mean profit. However, after looking at some of the movies it is clear that the budget for the South Korean movies has not been converted into dollars. \n",
    "We can also see that the majority of movies (2128) are made in the US. To simplify our data and make sure there are no more currency conversion errors, we will filter out all moves that are not made in the US."
   ]
  },
  {
   "cell_type": "code",
   "execution_count": 10,
   "id": "f1a99d05",
   "metadata": {},
   "outputs": [
    {
     "data": {
      "text/html": [
       "<div>\n",
       "<style scoped>\n",
       "    .dataframe tbody tr th:only-of-type {\n",
       "        vertical-align: middle;\n",
       "    }\n",
       "\n",
       "    .dataframe tbody tr th {\n",
       "        vertical-align: top;\n",
       "    }\n",
       "\n",
       "    .dataframe thead th {\n",
       "        text-align: right;\n",
       "    }\n",
       "</style>\n",
       "<table border=\"1\" class=\"dataframe\">\n",
       "  <thead>\n",
       "    <tr style=\"text-align: right;\">\n",
       "      <th></th>\n",
       "      <th>mean</th>\n",
       "      <th>count</th>\n",
       "    </tr>\n",
       "    <tr>\n",
       "      <th>country</th>\n",
       "      <th></th>\n",
       "      <th></th>\n",
       "    </tr>\n",
       "  </thead>\n",
       "  <tbody>\n",
       "    <tr>\n",
       "      <th>Taiwan</th>\n",
       "      <td>49340682</td>\n",
       "      <td>2</td>\n",
       "    </tr>\n",
       "    <tr>\n",
       "      <th>South Africa</th>\n",
       "      <td>34580080</td>\n",
       "      <td>3</td>\n",
       "    </tr>\n",
       "    <tr>\n",
       "      <th>New Zealand</th>\n",
       "      <td>27407163</td>\n",
       "      <td>7</td>\n",
       "    </tr>\n",
       "    <tr>\n",
       "      <th>USA</th>\n",
       "      <td>13754568</td>\n",
       "      <td>2128</td>\n",
       "    </tr>\n",
       "    <tr>\n",
       "      <th>Argentina</th>\n",
       "      <td>5597603</td>\n",
       "      <td>3</td>\n",
       "    </tr>\n",
       "  </tbody>\n",
       "</table>\n",
       "</div>"
      ],
      "text/plain": [
       "                 mean  count\n",
       "country                     \n",
       "Taiwan       49340682      2\n",
       "South Africa 34580080      3\n",
       "New Zealand  27407163      7\n",
       "USA          13754568   2128\n",
       "Argentina     5597603      3"
      ]
     },
     "execution_count": 10,
     "metadata": {},
     "output_type": "execute_result"
    }
   ],
   "source": [
    "countries = df.groupby('country').profit.agg(['mean','count']).sort_values('mean', ascending=False)\n",
    "countries.head()"
   ]
  },
  {
   "cell_type": "code",
   "execution_count": 11,
   "id": "e155e66b",
   "metadata": {},
   "outputs": [
    {
     "data": {
      "text/html": [
       "<div>\n",
       "<style scoped>\n",
       "    .dataframe tbody tr th:only-of-type {\n",
       "        vertical-align: middle;\n",
       "    }\n",
       "\n",
       "    .dataframe tbody tr th {\n",
       "        vertical-align: top;\n",
       "    }\n",
       "\n",
       "    .dataframe thead th {\n",
       "        text-align: right;\n",
       "    }\n",
       "</style>\n",
       "<table border=\"1\" class=\"dataframe\">\n",
       "  <thead>\n",
       "    <tr style=\"text-align: right;\">\n",
       "      <th></th>\n",
       "      <th>mean</th>\n",
       "      <th>count</th>\n",
       "    </tr>\n",
       "    <tr>\n",
       "      <th>country</th>\n",
       "      <th></th>\n",
       "      <th></th>\n",
       "    </tr>\n",
       "  </thead>\n",
       "  <tbody>\n",
       "    <tr>\n",
       "      <th>India</th>\n",
       "      <td>-139753490</td>\n",
       "      <td>5</td>\n",
       "    </tr>\n",
       "    <tr>\n",
       "      <th>Thailand</th>\n",
       "      <td>-224134502</td>\n",
       "      <td>4</td>\n",
       "    </tr>\n",
       "    <tr>\n",
       "      <th>Japan</th>\n",
       "      <td>-232044286</td>\n",
       "      <td>8</td>\n",
       "    </tr>\n",
       "    <tr>\n",
       "      <th>Hungary</th>\n",
       "      <td>-1248312404</td>\n",
       "      <td>2</td>\n",
       "    </tr>\n",
       "    <tr>\n",
       "      <th>South Korea</th>\n",
       "      <td>-2063422995</td>\n",
       "      <td>8</td>\n",
       "    </tr>\n",
       "  </tbody>\n",
       "</table>\n",
       "</div>"
      ],
      "text/plain": [
       "                   mean  count\n",
       "country                       \n",
       "India        -139753490      5\n",
       "Thailand     -224134502      4\n",
       "Japan        -232044286      8\n",
       "Hungary     -1248312404      2\n",
       "South Korea -2063422995      8"
      ]
     },
     "execution_count": 11,
     "metadata": {},
     "output_type": "execute_result"
    }
   ],
   "source": [
    "countries.tail()"
   ]
  },
  {
   "cell_type": "code",
   "execution_count": 12,
   "id": "5518eb59",
   "metadata": {},
   "outputs": [
    {
     "data": {
      "text/plain": [
       "(2128, 29)"
      ]
     },
     "execution_count": 12,
     "metadata": {},
     "output_type": "execute_result"
    }
   ],
   "source": [
    "df=df[df.country=='USA']\n",
    "df.shape#We now have 2128 rows of data compared to the 5043 before we started cleaning and filtering."
   ]
  },
  {
   "cell_type": "markdown",
   "id": "d3a48c3d",
   "metadata": {},
   "source": [
    "I considered removing all data points with budgets over 1,500,000, however, we can still gain valuable insights from columns such as content rating and genres."
   ]
  },
  {
   "cell_type": "markdown",
   "id": "ad2127c6",
   "metadata": {},
   "source": [
    "---\n",
    "## 4. Dev and Test Sets\n",
    "We need to create two random sets; a development set and a test set. We do this to **prevent p-hacking**, which is a way to manipulate the data, or run enough tests that eventually you will get a desired result. So by running preliminary investigations on only half of my data, I can prevent this."
   ]
  },
  {
   "cell_type": "code",
   "execution_count": 13,
   "id": "7d3b5252",
   "metadata": {
    "scrolled": true
   },
   "outputs": [],
   "source": [
    "import random\n",
    "import csv\n",
    "\n",
    "#creating a new csv file with only the cleaned data for analysis\n",
    "df.to_csv('clean_movie_metadata.csv', index=False)\n",
    "\n",
    "with open('clean_movie_metadata.csv', newline='') as f:\n",
    "    reader = csv.reader(f)\n",
    "    mylist = list(reader)    \n",
    "random.seed(25)\n",
    "data = mylist[1:]#excluding the column headers from the shuffle\n",
    "random.shuffle(data)#mixing up the order of the data\n",
    "midpoint=len(data)//2#splitting the data in two\n",
    "devlist=data[:midpoint]#creating the development list\n",
    "testlist=data[midpoint:]#creating the test list\n",
    "df = pd.DataFrame(devlist, columns = mylist[0], dtype = float) #naming our dev dataframe df for ease of use in our EDA\n",
    "testdf = pd.DataFrame(testlist, columns = mylist[0], dtype = float)"
   ]
  },
  {
   "cell_type": "markdown",
   "id": "1975196d",
   "metadata": {},
   "source": [
    "---\n",
    "## 5. Exploratory Data Analysis\n",
    "### 5.1 Genres\n",
    "Below we are looking at the top 5 most profitable genres on average. It would seem that a lot of the highly profiting movies are family, sci-fi, adventure etc. However, we can see that there is only one movie for each of those specific genres so it cannot prove anything statistically."
   ]
  },
  {
   "cell_type": "code",
   "execution_count": 14,
   "id": "69b3d768",
   "metadata": {},
   "outputs": [
    {
     "data": {
      "text/html": [
       "<div>\n",
       "<style scoped>\n",
       "    .dataframe tbody tr th:only-of-type {\n",
       "        vertical-align: middle;\n",
       "    }\n",
       "\n",
       "    .dataframe tbody tr th {\n",
       "        vertical-align: top;\n",
       "    }\n",
       "\n",
       "    .dataframe thead th {\n",
       "        text-align: right;\n",
       "    }\n",
       "</style>\n",
       "<table border=\"1\" class=\"dataframe\">\n",
       "  <thead>\n",
       "    <tr style=\"text-align: right;\">\n",
       "      <th></th>\n",
       "      <th>Profit Average</th>\n",
       "      <th>Number of movies</th>\n",
       "    </tr>\n",
       "    <tr>\n",
       "      <th>genres</th>\n",
       "      <th></th>\n",
       "      <th></th>\n",
       "    </tr>\n",
       "  </thead>\n",
       "  <tbody>\n",
       "    <tr>\n",
       "      <th>Action|Adventure|Fantasy|Sci-Fi</th>\n",
       "      <td>523505847</td>\n",
       "      <td>1</td>\n",
       "    </tr>\n",
       "    <tr>\n",
       "      <th>Animation|Comedy|Family|Sci-Fi</th>\n",
       "      <td>292049635</td>\n",
       "      <td>1</td>\n",
       "    </tr>\n",
       "    <tr>\n",
       "      <th>Adventure|Animation|Comedy|Family|Fantasy|Romance</th>\n",
       "      <td>286471036</td>\n",
       "      <td>1</td>\n",
       "    </tr>\n",
       "    <tr>\n",
       "      <th>Action|Animation|Comedy|Family|Sci-Fi</th>\n",
       "      <td>262029560</td>\n",
       "      <td>1</td>\n",
       "    </tr>\n",
       "    <tr>\n",
       "      <th>Animation|Comedy|Family</th>\n",
       "      <td>182501645</td>\n",
       "      <td>1</td>\n",
       "    </tr>\n",
       "  </tbody>\n",
       "</table>\n",
       "</div>"
      ],
      "text/plain": [
       "                                                   Profit Average  \\\n",
       "genres                                                              \n",
       "Action|Adventure|Fantasy|Sci-Fi                         523505847   \n",
       "Animation|Comedy|Family|Sci-Fi                          292049635   \n",
       "Adventure|Animation|Comedy|Family|Fantasy|Romance       286471036   \n",
       "Action|Animation|Comedy|Family|Sci-Fi                   262029560   \n",
       "Animation|Comedy|Family                                 182501645   \n",
       "\n",
       "                                                   Number of movies  \n",
       "genres                                                               \n",
       "Action|Adventure|Fantasy|Sci-Fi                                   1  \n",
       "Animation|Comedy|Family|Sci-Fi                                    1  \n",
       "Adventure|Animation|Comedy|Family|Fantasy|Romance                 1  \n",
       "Action|Animation|Comedy|Family|Sci-Fi                             1  \n",
       "Animation|Comedy|Family                                           1  "
      ]
     },
     "execution_count": 14,
     "metadata": {},
     "output_type": "execute_result"
    }
   ],
   "source": [
    "profit_series=df.groupby('genres').profit.agg(['mean','count'])\\\n",
    "               .rename(columns={'mean':'Profit Average','count':'Number of movies'})\n",
    "\n",
    "top_profit_genre = profit_series.sort_values('Profit Average', ascending=False)\n",
    "\n",
    "top_profit_genre.head()"
   ]
  },
  {
   "cell_type": "markdown",
   "id": "8cd5c4be",
   "metadata": {},
   "source": [
    "To get a better understanding of the genres we are going to split them into individual genres."
   ]
  },
  {
   "cell_type": "code",
   "execution_count": 15,
   "id": "1625f665",
   "metadata": {},
   "outputs": [],
   "source": [
    "tempdf = df.copy()#making a copy so we can edit the genres colum without effecting the data for the rest of our analysis\n",
    "gdf = tempdf['genres'].str.split('|').apply(Series, 1).stack()#splitting up the individual genres\n",
    "gdf.index = gdf.index.droplevel(-1)\n",
    "gdf.name = 'genres'\n",
    "del tempdf['genres']#removing the old combined genres\n",
    "genresdf = tempdf.join(gdf)#combining the new genre columns with the full dataframe"
   ]
  },
  {
   "cell_type": "markdown",
   "id": "45ea2b84",
   "metadata": {},
   "source": [
    "This is the bar chart shows the average profit for each of the genres. We can see that animation movies have the highest average and westerns have a negative average profit"
   ]
  },
  {
   "cell_type": "code",
   "execution_count": 16,
   "id": "4e13119d",
   "metadata": {},
   "outputs": [
    {
     "data": {
      "image/png": "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\n",
      "text/plain": [
       "<Figure size 720x576 with 1 Axes>"
      ]
     },
     "metadata": {
      "needs_background": "light"
     },
     "output_type": "display_data"
    }
   ],
   "source": [
    "genresdf = genresdf.groupby(['genres']).mean()\n",
    "genresdf.sort_values('profit', ascending=False, inplace=True)\n",
    "genresdf[['profit']].plot.bar(stacked=True, title = 'Genres by profit', figsize=(10, 8))\n",
    "plt.xticks(rotation=45);\n"
   ]
  },
  {
   "cell_type": "markdown",
   "id": "7898e03d",
   "metadata": {},
   "source": [
    "### 5.2 Content Rating\n",
    "Below we are comparing movie content ratings to their average profit. "
   ]
  },
  {
   "cell_type": "code",
   "execution_count": 17,
   "id": "6dc5cfdb",
   "metadata": {},
   "outputs": [
    {
     "data": {
      "text/html": [
       "<div>\n",
       "<style scoped>\n",
       "    .dataframe tbody tr th:only-of-type {\n",
       "        vertical-align: middle;\n",
       "    }\n",
       "\n",
       "    .dataframe tbody tr th {\n",
       "        vertical-align: top;\n",
       "    }\n",
       "\n",
       "    .dataframe thead th {\n",
       "        text-align: right;\n",
       "    }\n",
       "</style>\n",
       "<table border=\"1\" class=\"dataframe\">\n",
       "  <thead>\n",
       "    <tr style=\"text-align: right;\">\n",
       "      <th></th>\n",
       "      <th>Profit Average</th>\n",
       "      <th>Number of movies</th>\n",
       "    </tr>\n",
       "    <tr>\n",
       "      <th>content_rating</th>\n",
       "      <th></th>\n",
       "      <th></th>\n",
       "    </tr>\n",
       "  </thead>\n",
       "  <tbody>\n",
       "    <tr>\n",
       "      <th>G</th>\n",
       "      <td>57584051</td>\n",
       "      <td>17</td>\n",
       "    </tr>\n",
       "    <tr>\n",
       "      <th>PG</th>\n",
       "      <td>20565407</td>\n",
       "      <td>159</td>\n",
       "    </tr>\n",
       "    <tr>\n",
       "      <th>PG-13</th>\n",
       "      <td>17914481</td>\n",
       "      <td>458</td>\n",
       "    </tr>\n",
       "    <tr>\n",
       "      <th>R</th>\n",
       "      <td>7867169</td>\n",
       "      <td>418</td>\n",
       "    </tr>\n",
       "  </tbody>\n",
       "</table>\n",
       "</div>"
      ],
      "text/plain": [
       "                Profit Average  Number of movies\n",
       "content_rating                                  \n",
       "G                     57584051                17\n",
       "PG                    20565407               159\n",
       "PG-13                 17914481               458\n",
       "R                      7867169               418"
      ]
     },
     "execution_count": 17,
     "metadata": {},
     "output_type": "execute_result"
    }
   ],
   "source": [
    "content_rating_series=df.groupby('content_rating').profit.agg(['mean','count'])\\\n",
    "               .rename(columns={'mean':'Profit Average','count':'Number of movies'})\n",
    "\n",
    "#The minimum number of movies has been set at 10 to remove a small number of films that are unrated.\n",
    "top_profit_content = content_rating_series[content_rating_series['Number of movies']>10].sort_values('Profit Average', ascending=False)\n",
    "\n",
    "\n",
    "top_profit_content.head(n=10)\n"
   ]
  },
  {
   "cell_type": "code",
   "execution_count": 18,
   "id": "b891a2e3",
   "metadata": {},
   "outputs": [
    {
     "data": {
      "image/png": "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\n",
      "text/plain": [
       "<Figure size 720x504 with 1 Axes>"
      ]
     },
     "metadata": {
      "needs_background": "light"
     },
     "output_type": "display_data"
    }
   ],
   "source": [
    "bigcontentrating=['G','PG','PG-13','R']\n",
    "contentrating = df[df.content_rating.isin(bigcontentrating)].loc[:,['content_rating','profit']]\n",
    "contentrating.boxplot(by='content_rating',figsize=(10,7));"
   ]
  },
  {
   "cell_type": "markdown",
   "id": "c2c5e3a0",
   "metadata": {},
   "source": [
    "The data seems to suggest that R rated movies do not perform as well as G/PG/PG-13 movies, we will test this later."
   ]
  },
  {
   "cell_type": "markdown",
   "id": "81e91a75",
   "metadata": {},
   "source": [
    "### 5.3 Budgets\n",
    "Below we are comparing the budget (<1.5mil) of films with their profit on a scatter graph. There does not seem to be a clear correlation between the budget spent and the profit made."
   ]
  },
  {
   "cell_type": "code",
   "execution_count": 19,
   "id": "0b97adaa",
   "metadata": {},
   "outputs": [
    {
     "data": {
      "image/png": "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\n",
      "text/plain": [
       "<Figure size 1080x504 with 1 Axes>"
      ]
     },
     "metadata": {
      "needs_background": "light"
     },
     "output_type": "display_data"
    }
   ],
   "source": [
    "budgetseries = df[df['budget']<=1500000]#setting the max budget \n",
    "ax1 = budgetseries.plot.scatter(x='budget',y='profit', title= 'Scatter graph of budgets against profit',c='DarkBlue', figsize=(15,7))"
   ]
  },
  {
   "cell_type": "code",
   "execution_count": 20,
   "id": "e4e63dc3",
   "metadata": {
    "scrolled": false
   },
   "outputs": [],
   "source": [
    "budgetseries.to_excel('genres.xlsx')"
   ]
  },
  {
   "cell_type": "markdown",
   "id": "bef8e2c0",
   "metadata": {},
   "source": [
    "---\n",
    "## 6. Hypothesis Testing\n",
    "We will now run two hypothesis tests on our **test data**:\n",
    "1. If R rated movies are related to lower profits, then films rated G, PG and PG-13 will receive higher profits than R rated movies.\n",
    "2. If bigger budgets are related to larger profits, then films with budgets greater than 500,000 will have larger profits.\n",
    "\n",
    "I have chosen 500,000 as a measure of 'larger budgets' as the median budget (for movies below 1.5mil) in the test data is 500,000."
   ]
  },
  {
   "cell_type": "markdown",
   "id": "8baa8793",
   "metadata": {},
   "source": [
    "### 6.1 Content rating hypothesis testing\n",
    "$μ_1$ = mean proft from G/PG/PG-13 movies\n",
    "\n",
    "$μ_2$ = mean profit from R movies\n",
    "\n",
    "$H_0:μ_1-μ_2 = 0$ \n",
    "\n",
    "$H_1:μ_1-μ_2 > 0$ "
   ]
  },
  {
   "cell_type": "code",
   "execution_count": 21,
   "id": "b2a00a49",
   "metadata": {},
   "outputs": [
    {
     "name": "stdout",
     "output_type": "stream",
     "text": [
      "Mean profit for movies rated G, PG or Pg-13: 15210601.658536585\n",
      "Mean profit for movies rated R: 9518931.093181819\n"
     ]
    }
   ],
   "source": [
    "lowcontentratingdf = testdf.loc[(testdf.content_rating=='G')|(testdf.content_rating=='PG')|(testdf.content_rating=='PG-13')]\n",
    "highcontentratingdf = testdf.loc[(testdf.content_rating=='R')]\n",
    "print('Mean profit for movies rated G, PG or Pg-13: '+ str(lowcontentratingdf.profit.mean()))\n",
    "print('Mean profit for movies rated R: ' + str(highcontentratingdf.profit.mean()))"
   ]
  },
  {
   "cell_type": "code",
   "execution_count": 22,
   "id": "9b5af1e6",
   "metadata": {},
   "outputs": [
    {
     "data": {
      "image/png": "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\n",
      "text/plain": [
       "<Figure size 864x360 with 1 Axes>"
      ]
     },
     "metadata": {
      "needs_background": "light"
     },
     "output_type": "display_data"
    }
   ],
   "source": [
    "lowcontentratingdf.hist(column='profit', figsize=(12,5), bins=50);"
   ]
  },
  {
   "cell_type": "code",
   "execution_count": 23,
   "id": "cebd835f",
   "metadata": {},
   "outputs": [
    {
     "data": {
      "image/png": "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\n",
      "text/plain": [
       "<Figure size 864x360 with 1 Axes>"
      ]
     },
     "metadata": {
      "needs_background": "light"
     },
     "output_type": "display_data"
    }
   ],
   "source": [
    "highcontentratingdf.hist(column='profit', figsize=(12,5), bins=60);"
   ]
  },
  {
   "cell_type": "code",
   "execution_count": 24,
   "id": "420a66a8",
   "metadata": {},
   "outputs": [
    {
     "name": "stdout",
     "output_type": "stream",
     "text": [
      "One tail R movies compared to G/PG/PG-13 movies difference:  0.02652683093051922\n"
     ]
    }
   ],
   "source": [
    "hrating_mean=highcontentratingdf['profit'].mean()\n",
    "hrating_std=highcontentratingdf['profit'].std()\n",
    "hrating_count=highcontentratingdf['profit'].count()\n",
    "lrating_mean=lowcontentratingdf['profit'].mean()\n",
    "lrating_std=lowcontentratingdf['profit'].std()\n",
    "lrating_count=lowcontentratingdf['profit'].count()\n",
    "\n",
    "error=(((lrating_std**2)/lrating_count)+((hrating_std**2)/hrating_count))**0.5   \n",
    "z=(lrating_mean-hrating_mean)/error\n",
    "p_value_from_normal_for_diff = (1-stats.norm.cdf(z))\n",
    "print ('One tail R movies compared to G/PG/PG-13 movies difference: ', p_value_from_normal_for_diff)"
   ]
  },
  {
   "cell_type": "markdown",
   "id": "ce0ad14d",
   "metadata": {},
   "source": [
    "The smaller our p-value the more likely it is we can reject our null hypothesis.\n",
    "Our p-value is 0.026, with a significance level of 5% we can see 0.026<0.5 therefore, we **reject our null hypothesis and accept our alternate hypothesis.** \n",
    "\n",
    "The difference between the two means is statistically significant, therefore, R rated movies are related to lower profits compared to G, PG and PG-13."
   ]
  },
  {
   "cell_type": "markdown",
   "id": "9f3081ee",
   "metadata": {},
   "source": [
    "### 6.2 Budget hypothesis testing\n",
    "Setting the null hypothesis and the alternative hypothesis.\n",
    "\n",
    "$μ_1$ = mean proft from movies with a budget <=500,000\n",
    "\n",
    "$μ_2$ = mean profit from movies with a budget >500,000<1,500,000\n",
    "\n",
    "$H_0:μ_1-μ_2 = 0$ \n",
    "\n",
    "$H_1:μ_1-μ_2 > 0$"
   ]
  },
  {
   "cell_type": "code",
   "execution_count": 25,
   "id": "033435f3",
   "metadata": {},
   "outputs": [
    {
     "data": {
      "text/plain": [
       "500000.0"
      ]
     },
     "execution_count": 25,
     "metadata": {},
     "output_type": "execute_result"
    }
   ],
   "source": [
    "budgetseries = testdf[testdf['budget']<=1500000]#using our test data\n",
    "budgetseries.budget.median()"
   ]
  },
  {
   "cell_type": "code",
   "execution_count": 26,
   "id": "c568e1bd",
   "metadata": {},
   "outputs": [
    {
     "name": "stdout",
     "output_type": "stream",
     "text": [
      "Mean profit for movies with a budget of 500,000 or less: 6268230.142857143\n",
      "Mean profit for movies with a budget between 500,001 and 1,500,000: 1471298.0294117648\n"
     ]
    }
   ],
   "source": [
    "lowbudgetdf = testdf.loc[(testdf.budget<=500000)]\n",
    "highbudgetdf = testdf.loc[(testdf.budget>500000)&(testdf.budget<=1500000)]\n",
    "print('Mean profit for movies with a budget of 500,000 or less: '+ str(lowbudgetdf.profit.mean()))\n",
    "print('Mean profit for movies with a budget between 500,001 and 1,500,000: ' + str(highbudgetdf.profit.mean()))"
   ]
  },
  {
   "cell_type": "code",
   "execution_count": 27,
   "id": "9d9f8703",
   "metadata": {},
   "outputs": [
    {
     "name": "stdout",
     "output_type": "stream",
     "text": [
      "One tail, big budget movies compared to low budget movies, difference:  0.08147714728828925\n"
     ]
    }
   ],
   "source": [
    "hbudget_mean=highbudgetdf['profit'].mean()\n",
    "hbudget_std=highbudgetdf['profit'].std()\n",
    "hbudget_count=highbudgetdf['profit'].count()\n",
    "\n",
    "lbudget_mean=lowbudgetdf['profit'].mean()\n",
    "lbudget_std=lowbudgetdf['profit'].std()\n",
    "lbudget_count=lowbudgetdf['profit'].count()\n",
    "\n",
    "error=(((lbudget_std**2)/lbudget_count)+((hbudget_std**2)/hbudget_count))**0.5   \n",
    "z=(lbudget_mean-hbudget_mean)/error\n",
    "p_value_from_normal_for_diff = (1-stats.norm.cdf(z))\n",
    "print ('One tail, big budget movies compared to low budget movies, difference: ', p_value_from_normal_for_diff)"
   ]
  },
  {
   "cell_type": "markdown",
   "id": "5f493935",
   "metadata": {},
   "source": [
    "Our p-value is 0.0814 which is greater than our significance level of 0.5 therefore we can **reject our alternate hypothesis**. Our alternate hypothesis suggested that movies with a budget of over 500,000 would have greater profits, we can now see that that is statistically inaccurate."
   ]
  },
  {
   "cell_type": "markdown",
   "id": "1a4c47ac",
   "metadata": {},
   "source": [
    "---\n",
    "## 7. Summary\n",
    "\n",
    "\n",
    "I analysed IMDb data to find evidence for which kind of movie would produce a profitable outcome for SussexBudgetProdcutions.\n",
    "\n",
    "- I created a 'profit' column as this will be the most important variable in defining what will create a greater turnover for the company.\n",
    "- I cleaned and filtered the data which cut it down from 5043 to 2128 rows of data.\n",
    "- I analysed genres, content rating and budgets as all of these variables can be decided before or while creating the movie, unlike IMDb score or critic review etc.\n",
    "- After running the hypothesis tests we discovered that a higher content rating tends to lead to lower profits and that budgets between 1,500,000 and 500,000 do not tend to produce greater profits than lower budget movies.\n",
    "\n",
    "Recomendations:\n",
    "- **Create a movie in America** (as this is where our data comes from)\n",
    "- **G, PG or PG-13 rating** \n",
    "- **Budget of 500,000 or less**."
   ]
  },
  {
   "cell_type": "code",
   "execution_count": 28,
   "id": "003ca7aa",
   "metadata": {},
   "outputs": [
    {
     "name": "stderr",
     "output_type": "stream",
     "text": [
      "C:\\ProgramData\\Anaconda3\\lib\\site-packages\\IPython\\nbformat.py:13: ShimWarning: The `IPython.nbformat` package has been deprecated since IPython 4.0. You should import from nbformat instead.\n",
      "  \"You should import from nbformat instead.\", ShimWarning)\n"
     ]
    },
    {
     "name": "stdout",
     "output_type": "stream",
     "text": [
      "Word Count: 999\n"
     ]
    },
    {
     "name": "stderr",
     "output_type": "stream",
     "text": [
      "C:\\ProgramData\\Anaconda3\\lib\\site-packages\\nbformat\\current.py:19: UserWarning: nbformat.current is deprecated.\n",
      "\n",
      "- use nbformat for read/write/validate public API\n",
      "- use nbformat.vX directly to composing notebooks of a particular version\n",
      "\n",
      "  \"\"\")\n"
     ]
    }
   ],
   "source": [
    "import io\n",
    "from IPython.nbformat import current\n",
    "\n",
    "with io.open('ReportFinal.ipynb', 'r', encoding='utf-8') as f:\n",
    "    nb = current.read(f, 'json')\n",
    "\n",
    "word_count = 0\n",
    "for cell in nb.worksheets[0].cells:\n",
    "    if cell.cell_type == \"markdown\":\n",
    "        \n",
    "        word_count += len(cell['source'].replace('# ', '').lstrip().split(' '))\n",
    "print('Word Count: '+ str(word_count))"
   ]
  },
  {
   "cell_type": "code",
   "execution_count": null,
   "id": "9effd8f5",
   "metadata": {},
   "outputs": [],
   "source": []
  }
 ],
 "metadata": {
  "kernelspec": {
   "display_name": "Python 3 (ipykernel)",
   "language": "python",
   "name": "python3"
  },
  "language_info": {
   "codemirror_mode": {
    "name": "ipython",
    "version": 3
   },
   "file_extension": ".py",
   "mimetype": "text/x-python",
   "name": "python",
   "nbconvert_exporter": "python",
   "pygments_lexer": "ipython3",
   "version": "3.8.8"
  }
 },
 "nbformat": 4,
 "nbformat_minor": 5
}
